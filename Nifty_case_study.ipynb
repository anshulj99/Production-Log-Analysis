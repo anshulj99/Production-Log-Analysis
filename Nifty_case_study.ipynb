{
  "nbformat": 4,
  "nbformat_minor": 0,
  "metadata": {
    "colab": {
      "name": "Nifty case study.ipynb",
      "provenance": [],
      "mount_file_id": "1-x0OtnRh8G0hCthBYujUxJ31F7lyZCLY",
      "authorship_tag": "ABX9TyPh9vy8hTOaOvxGP0aRXe54",
      "include_colab_link": true
    },
    "kernelspec": {
      "name": "python3",
      "display_name": "Python 3"
    }
  },
  "cells": [
    {
      "cell_type": "markdown",
      "metadata": {
        "id": "view-in-github",
        "colab_type": "text"
      },
      "source": [
        "<a href=\"https://colab.research.google.com/github/anshulj99/Production-Log-Analysis/blob/main/Nifty_case_study.ipynb\" target=\"_parent\"><img src=\"https://colab.research.google.com/assets/colab-badge.svg\" alt=\"Open In Colab\"/></a>"
      ]
    },
    {
      "cell_type": "markdown",
      "metadata": {
        "id": "sB529slNoem5"
      },
      "source": [
        "NIFTY Case Study"
      ]
    },
    {
      "cell_type": "code",
      "metadata": {
        "id": "jcZIysSFn5YB"
      },
      "source": [
        "import numpy as np\r\n",
        "import pandas as pd\r\n",
        "nifty = pd.read_csv(\"/nifty.csv\",index_col=0).iloc[:,0]"
      ],
      "execution_count": 1,
      "outputs": []
    },
    {
      "cell_type": "markdown",
      "metadata": {
        "id": "eSq0Hsjwr3Km"
      },
      "source": [
        "What fraction of days did the market close higher than the previous day's close?"
      ]
    },
    {
      "cell_type": "code",
      "metadata": {
        "colab": {
          "base_uri": "https://localhost:8080/"
        },
        "id": "qTUB-b4Br9zs",
        "outputId": "2a5c58ce-d5f6-4d3d-b26a-54df06cc4cf6"
      },
      "source": [
        "np.sum((nifty.values[1:] - nifty.values[:-1])>0)/len(nifty) #difference greater than zero(higher closing)"
      ],
      "execution_count": 2,
      "outputs": [
        {
          "output_type": "execute_result",
          "data": {
            "text/plain": [
              "0.5265306122448979"
            ]
          },
          "metadata": {
            "tags": []
          },
          "execution_count": 2
        }
      ]
    },
    {
      "cell_type": "markdown",
      "metadata": {
        "id": "7RpOeWvNSYeZ"
      },
      "source": [
        "Index conversion: from String to Timestamp"
      ]
    },
    {
      "cell_type": "code",
      "metadata": {
        "colab": {
          "base_uri": "https://localhost:8080/",
          "height": 35
        },
        "id": "_yw4tZYrW2-N",
        "outputId": "ea5c74c9-abce-4306-bd23-def599a56460"
      },
      "source": [
        "nifty.index[0]"
      ],
      "execution_count": 3,
      "outputs": [
        {
          "output_type": "execute_result",
          "data": {
            "application/vnd.google.colaboratory.intrinsic+json": {
              "type": "string"
            },
            "text/plain": [
              "'01-Jan-2019'"
            ]
          },
          "metadata": {
            "tags": []
          },
          "execution_count": 3
        }
      ]
    },
    {
      "cell_type": "code",
      "metadata": {
        "colab": {
          "base_uri": "https://localhost:8080/"
        },
        "id": "2asEsefkSxLF",
        "outputId": "1ed34fb8-ce02-4cb4-aef7-922ce3aac826"
      },
      "source": [
        "new_index = map(pd.Timestamp, nifty.index)\r\n",
        "new_nifty = pd.Series(nifty, index= new_index)\r\n",
        "new_nifty.index[0]"
      ],
      "execution_count": 4,
      "outputs": [
        {
          "output_type": "execute_result",
          "data": {
            "text/plain": [
              "Timestamp('2019-01-01 00:00:00')"
            ]
          },
          "metadata": {
            "tags": []
          },
          "execution_count": 4
        }
      ]
    },
    {
      "cell_type": "markdown",
      "metadata": {
        "id": "WSkg53isVZ1R"
      },
      "source": [
        "Computing moving average of five days"
      ]
    },
    {
      "cell_type": "code",
      "metadata": {
        "colab": {
          "base_uri": "https://localhost:8080/"
        },
        "id": "VpDSiq82U9Tj",
        "outputId": "bdef38da-e887-44ae-959d-085f0931baed"
      },
      "source": [
        "new_nifty.rolling('5d').mean()"
      ],
      "execution_count": 5,
      "outputs": [
        {
          "output_type": "execute_result",
          "data": {
            "text/plain": [
              "2019-01-01    10910.100000\n",
              "2019-01-02    10851.300000\n",
              "2019-01-03    10791.616667\n",
              "2019-01-04    10775.550000\n",
              "2019-01-07    10723.800000\n",
              "                  ...     \n",
              "2019-12-24    12249.700000\n",
              "2019-12-26    12201.283333\n",
              "2019-12-27    12212.412500\n",
              "2019-12-30    12209.400000\n",
              "2019-12-31    12223.366667\n",
              "Name: Close, Length: 245, dtype: float64"
            ]
          },
          "metadata": {
            "tags": []
          },
          "execution_count": 5
        }
      ]
    },
    {
      "cell_type": "markdown",
      "metadata": {
        "id": "jABrOw3kCxD_"
      },
      "source": [
        "Identifying closing price on Fridays"
      ]
    },
    {
      "cell_type": "code",
      "metadata": {
        "colab": {
          "base_uri": "https://localhost:8080/"
        },
        "id": "hW_iI6ZAV63s",
        "outputId": "73b6628e-e96d-4151-d2b2-d4e60d406080"
      },
      "source": [
        "dow = new_nifty.copy()\r\n",
        "for i in dow.index:\r\n",
        "  dow[i]= i.dayofweek\r\n",
        "\r\n",
        "new_nifty[dow == 4] #friday = 4th day"
      ],
      "execution_count": 6,
      "outputs": [
        {
          "output_type": "execute_result",
          "data": {
            "text/plain": [
              "2019-01-04    10727.35\n",
              "2019-01-11    10794.95\n",
              "2019-01-18    10906.95\n",
              "2019-01-25    10780.55\n",
              "2019-02-01    10893.65\n",
              "2019-02-08    10943.60\n",
              "2019-02-15    10724.40\n",
              "2019-02-22    10791.65\n",
              "2019-03-01    10863.50\n",
              "2019-03-08    11035.40\n",
              "2019-03-15    11426.85\n",
              "2019-03-22    11456.90\n",
              "2019-03-29    11623.90\n",
              "2019-04-05    11665.95\n",
              "2019-04-12    11643.45\n",
              "2019-04-26    11754.65\n",
              "2019-05-03    11712.25\n",
              "2019-05-10    11278.90\n",
              "2019-05-17    11407.15\n",
              "2019-05-24    11844.10\n",
              "2019-05-31    11922.80\n",
              "2019-06-07    11870.65\n",
              "2019-06-14    11823.30\n",
              "2019-06-21    11724.10\n",
              "2019-06-28    11788.85\n",
              "2019-07-05    11811.15\n",
              "2019-07-12    11552.50\n",
              "2019-07-19    11419.25\n",
              "2019-07-26    11284.30\n",
              "2019-08-02    10997.35\n",
              "2019-08-09    11109.65\n",
              "2019-08-16    11047.80\n",
              "2019-08-23    10829.35\n",
              "2019-08-30    11023.25\n",
              "2019-09-06    10946.20\n",
              "2019-09-13    11075.90\n",
              "2019-09-20    11274.20\n",
              "2019-09-27    11512.40\n",
              "2019-10-04    11174.75\n",
              "2019-10-11    11305.05\n",
              "2019-10-18    11661.85\n",
              "2019-10-25    11583.90\n",
              "2019-11-01    11890.60\n",
              "2019-11-08    11908.15\n",
              "2019-11-15    11895.45\n",
              "2019-11-22    11914.40\n",
              "2019-11-29    12056.05\n",
              "2019-12-06    11921.50\n",
              "2019-12-13    12086.70\n",
              "2019-12-20    12271.80\n",
              "2019-12-27    12245.80\n",
              "Name: Close, dtype: float64"
            ]
          },
          "metadata": {
            "tags": []
          },
          "execution_count": 6
        }
      ]
    },
    {
      "cell_type": "code",
      "metadata": {
        "id": "90AYhd58Dfht"
      },
      "source": [
        ""
      ],
      "execution_count": null,
      "outputs": []
    }
  ]
}